{
 "cells": [
  {
   "cell_type": "markdown",
   "id": "bb988e51",
   "metadata": {},
   "source": [
    "# Module 20 Challenge"
   ]
  },
  {
   "cell_type": "markdown",
   "id": "f7af18d2",
   "metadata": {},
   "source": [
    "### Importing Dependancies"
   ]
  },
  {
   "cell_type": "code",
   "execution_count": 1,
   "id": "3e2243f2",
   "metadata": {},
   "outputs": [],
   "source": [
    "import pandas as pd\n",
    "import matplotlib.pyplot as plt\n",
    "from sklearn.neighbors import KNeighborsClassifier\n",
    "from sklearn.preprocessing import StandardScaler\n",
    "from sklearn.manifold import TSNE\n",
    "from sklearn.cluster import KMeans\n",
    "from sklearn.decomposition import PCA"
   ]
  },
  {
   "cell_type": "markdown",
   "id": "aa73e02b",
   "metadata": {},
   "source": [
    "### Loading data set"
   ]
  },
  {
   "cell_type": "code",
   "execution_count": 2,
   "id": "b7a35e83",
   "metadata": {},
   "outputs": [
    {
     "data": {
      "text/html": [
       "<div>\n",
       "<style scoped>\n",
       "    .dataframe tbody tr th:only-of-type {\n",
       "        vertical-align: middle;\n",
       "    }\n",
       "\n",
       "    .dataframe tbody tr th {\n",
       "        vertical-align: top;\n",
       "    }\n",
       "\n",
       "    .dataframe thead th {\n",
       "        text-align: right;\n",
       "    }\n",
       "</style>\n",
       "<table border=\"1\" class=\"dataframe\">\n",
       "  <thead>\n",
       "    <tr style=\"text-align: right;\">\n",
       "      <th></th>\n",
       "      <th>AGE</th>\n",
       "      <th>SPHEQ</th>\n",
       "      <th>AL</th>\n",
       "      <th>ACD</th>\n",
       "      <th>LT</th>\n",
       "      <th>VCD</th>\n",
       "      <th>SPORTHR</th>\n",
       "      <th>READHR</th>\n",
       "      <th>COMPHR</th>\n",
       "      <th>STUDYHR</th>\n",
       "      <th>TVHR</th>\n",
       "      <th>DIOPTERHR</th>\n",
       "      <th>MOMMY</th>\n",
       "      <th>DADMY</th>\n",
       "      <th>MYOPIC</th>\n",
       "    </tr>\n",
       "  </thead>\n",
       "  <tbody>\n",
       "    <tr>\n",
       "      <th>0</th>\n",
       "      <td>6</td>\n",
       "      <td>-0.052</td>\n",
       "      <td>21.889999</td>\n",
       "      <td>3.690</td>\n",
       "      <td>3.498</td>\n",
       "      <td>14.70</td>\n",
       "      <td>45</td>\n",
       "      <td>8</td>\n",
       "      <td>0</td>\n",
       "      <td>0</td>\n",
       "      <td>10</td>\n",
       "      <td>34</td>\n",
       "      <td>1</td>\n",
       "      <td>1</td>\n",
       "      <td>1</td>\n",
       "    </tr>\n",
       "    <tr>\n",
       "      <th>1</th>\n",
       "      <td>6</td>\n",
       "      <td>0.608</td>\n",
       "      <td>22.379999</td>\n",
       "      <td>3.702</td>\n",
       "      <td>3.392</td>\n",
       "      <td>15.29</td>\n",
       "      <td>4</td>\n",
       "      <td>0</td>\n",
       "      <td>1</td>\n",
       "      <td>1</td>\n",
       "      <td>7</td>\n",
       "      <td>12</td>\n",
       "      <td>1</td>\n",
       "      <td>1</td>\n",
       "      <td>0</td>\n",
       "    </tr>\n",
       "    <tr>\n",
       "      <th>2</th>\n",
       "      <td>6</td>\n",
       "      <td>1.179</td>\n",
       "      <td>22.490000</td>\n",
       "      <td>3.462</td>\n",
       "      <td>3.514</td>\n",
       "      <td>15.52</td>\n",
       "      <td>14</td>\n",
       "      <td>0</td>\n",
       "      <td>2</td>\n",
       "      <td>0</td>\n",
       "      <td>10</td>\n",
       "      <td>14</td>\n",
       "      <td>0</td>\n",
       "      <td>0</td>\n",
       "      <td>0</td>\n",
       "    </tr>\n",
       "    <tr>\n",
       "      <th>3</th>\n",
       "      <td>6</td>\n",
       "      <td>0.525</td>\n",
       "      <td>22.200001</td>\n",
       "      <td>3.862</td>\n",
       "      <td>3.612</td>\n",
       "      <td>14.73</td>\n",
       "      <td>18</td>\n",
       "      <td>11</td>\n",
       "      <td>0</td>\n",
       "      <td>0</td>\n",
       "      <td>4</td>\n",
       "      <td>37</td>\n",
       "      <td>0</td>\n",
       "      <td>1</td>\n",
       "      <td>1</td>\n",
       "    </tr>\n",
       "    <tr>\n",
       "      <th>4</th>\n",
       "      <td>5</td>\n",
       "      <td>0.697</td>\n",
       "      <td>23.290001</td>\n",
       "      <td>3.676</td>\n",
       "      <td>3.454</td>\n",
       "      <td>16.16</td>\n",
       "      <td>14</td>\n",
       "      <td>0</td>\n",
       "      <td>0</td>\n",
       "      <td>0</td>\n",
       "      <td>4</td>\n",
       "      <td>4</td>\n",
       "      <td>1</td>\n",
       "      <td>0</td>\n",
       "      <td>0</td>\n",
       "    </tr>\n",
       "  </tbody>\n",
       "</table>\n",
       "</div>"
      ],
      "text/plain": [
       "   AGE  SPHEQ         AL    ACD     LT    VCD  SPORTHR  READHR  COMPHR  \\\n",
       "0    6 -0.052  21.889999  3.690  3.498  14.70       45       8       0   \n",
       "1    6  0.608  22.379999  3.702  3.392  15.29        4       0       1   \n",
       "2    6  1.179  22.490000  3.462  3.514  15.52       14       0       2   \n",
       "3    6  0.525  22.200001  3.862  3.612  14.73       18      11       0   \n",
       "4    5  0.697  23.290001  3.676  3.454  16.16       14       0       0   \n",
       "\n",
       "   STUDYHR  TVHR  DIOPTERHR  MOMMY  DADMY  MYOPIC  \n",
       "0        0    10         34      1      1       1  \n",
       "1        1     7         12      1      1       0  \n",
       "2        0    10         14      0      0       0  \n",
       "3        0     4         37      0      1       1  \n",
       "4        0     4          4      1      0       0  "
      ]
     },
     "execution_count": 2,
     "metadata": {},
     "output_type": "execute_result"
    }
   ],
   "source": [
    "df = pd.read_csv('Resources/myopia.csv', )\n",
    "df.head()"
   ]
  },
  {
   "cell_type": "code",
   "execution_count": 3,
   "id": "38ed0f9c",
   "metadata": {},
   "outputs": [],
   "source": [
    "# Saving labels for scatter plot\n",
    "\n",
    "labels = df[\"MYOPIC\"]"
   ]
  },
  {
   "cell_type": "code",
   "execution_count": 4,
   "id": "bb056282",
   "metadata": {},
   "outputs": [
    {
     "data": {
      "text/html": [
       "<div>\n",
       "<style scoped>\n",
       "    .dataframe tbody tr th:only-of-type {\n",
       "        vertical-align: middle;\n",
       "    }\n",
       "\n",
       "    .dataframe tbody tr th {\n",
       "        vertical-align: top;\n",
       "    }\n",
       "\n",
       "    .dataframe thead th {\n",
       "        text-align: right;\n",
       "    }\n",
       "</style>\n",
       "<table border=\"1\" class=\"dataframe\">\n",
       "  <thead>\n",
       "    <tr style=\"text-align: right;\">\n",
       "      <th></th>\n",
       "      <th>AGE</th>\n",
       "      <th>SPHEQ</th>\n",
       "      <th>AL</th>\n",
       "      <th>ACD</th>\n",
       "      <th>LT</th>\n",
       "      <th>VCD</th>\n",
       "      <th>SPORTHR</th>\n",
       "      <th>READHR</th>\n",
       "      <th>COMPHR</th>\n",
       "      <th>STUDYHR</th>\n",
       "      <th>TVHR</th>\n",
       "      <th>DIOPTERHR</th>\n",
       "      <th>MOMMY</th>\n",
       "      <th>DADMY</th>\n",
       "    </tr>\n",
       "  </thead>\n",
       "  <tbody>\n",
       "    <tr>\n",
       "      <th>count</th>\n",
       "      <td>618.000000</td>\n",
       "      <td>618.000000</td>\n",
       "      <td>618.000000</td>\n",
       "      <td>618.000000</td>\n",
       "      <td>618.000000</td>\n",
       "      <td>618.000000</td>\n",
       "      <td>618.000000</td>\n",
       "      <td>618.000000</td>\n",
       "      <td>618.000000</td>\n",
       "      <td>618.000000</td>\n",
       "      <td>618.000000</td>\n",
       "      <td>618.000000</td>\n",
       "      <td>618.000000</td>\n",
       "      <td>618.000000</td>\n",
       "    </tr>\n",
       "    <tr>\n",
       "      <th>mean</th>\n",
       "      <td>6.299353</td>\n",
       "      <td>0.801010</td>\n",
       "      <td>22.496780</td>\n",
       "      <td>3.578629</td>\n",
       "      <td>3.541453</td>\n",
       "      <td>15.376780</td>\n",
       "      <td>11.953074</td>\n",
       "      <td>2.796117</td>\n",
       "      <td>2.105178</td>\n",
       "      <td>1.490291</td>\n",
       "      <td>8.948220</td>\n",
       "      <td>26.017799</td>\n",
       "      <td>0.506472</td>\n",
       "      <td>0.498382</td>\n",
       "    </tr>\n",
       "    <tr>\n",
       "      <th>std</th>\n",
       "      <td>0.712950</td>\n",
       "      <td>0.625918</td>\n",
       "      <td>0.680141</td>\n",
       "      <td>0.230394</td>\n",
       "      <td>0.154519</td>\n",
       "      <td>0.664183</td>\n",
       "      <td>7.968296</td>\n",
       "      <td>3.068191</td>\n",
       "      <td>3.056508</td>\n",
       "      <td>2.216207</td>\n",
       "      <td>5.719021</td>\n",
       "      <td>16.031715</td>\n",
       "      <td>0.500363</td>\n",
       "      <td>0.500402</td>\n",
       "    </tr>\n",
       "    <tr>\n",
       "      <th>min</th>\n",
       "      <td>5.000000</td>\n",
       "      <td>-0.699000</td>\n",
       "      <td>19.900000</td>\n",
       "      <td>2.772000</td>\n",
       "      <td>2.960000</td>\n",
       "      <td>13.380000</td>\n",
       "      <td>0.000000</td>\n",
       "      <td>0.000000</td>\n",
       "      <td>0.000000</td>\n",
       "      <td>0.000000</td>\n",
       "      <td>0.000000</td>\n",
       "      <td>2.000000</td>\n",
       "      <td>0.000000</td>\n",
       "      <td>0.000000</td>\n",
       "    </tr>\n",
       "    <tr>\n",
       "      <th>25%</th>\n",
       "      <td>6.000000</td>\n",
       "      <td>0.456250</td>\n",
       "      <td>22.040001</td>\n",
       "      <td>3.424000</td>\n",
       "      <td>3.436000</td>\n",
       "      <td>14.930000</td>\n",
       "      <td>6.000000</td>\n",
       "      <td>0.000000</td>\n",
       "      <td>0.000000</td>\n",
       "      <td>0.000000</td>\n",
       "      <td>4.250000</td>\n",
       "      <td>15.000000</td>\n",
       "      <td>0.000000</td>\n",
       "      <td>0.000000</td>\n",
       "    </tr>\n",
       "    <tr>\n",
       "      <th>50%</th>\n",
       "      <td>6.000000</td>\n",
       "      <td>0.729000</td>\n",
       "      <td>22.464999</td>\n",
       "      <td>3.585000</td>\n",
       "      <td>3.542000</td>\n",
       "      <td>15.360000</td>\n",
       "      <td>10.000000</td>\n",
       "      <td>2.000000</td>\n",
       "      <td>1.000000</td>\n",
       "      <td>1.000000</td>\n",
       "      <td>8.000000</td>\n",
       "      <td>23.000000</td>\n",
       "      <td>1.000000</td>\n",
       "      <td>0.000000</td>\n",
       "    </tr>\n",
       "    <tr>\n",
       "      <th>75%</th>\n",
       "      <td>6.000000</td>\n",
       "      <td>1.034000</td>\n",
       "      <td>22.969999</td>\n",
       "      <td>3.730000</td>\n",
       "      <td>3.640000</td>\n",
       "      <td>15.840000</td>\n",
       "      <td>16.000000</td>\n",
       "      <td>4.000000</td>\n",
       "      <td>3.000000</td>\n",
       "      <td>2.000000</td>\n",
       "      <td>12.000000</td>\n",
       "      <td>34.000000</td>\n",
       "      <td>1.000000</td>\n",
       "      <td>1.000000</td>\n",
       "    </tr>\n",
       "    <tr>\n",
       "      <th>max</th>\n",
       "      <td>9.000000</td>\n",
       "      <td>4.372000</td>\n",
       "      <td>24.559999</td>\n",
       "      <td>4.250000</td>\n",
       "      <td>4.112000</td>\n",
       "      <td>17.299999</td>\n",
       "      <td>45.000000</td>\n",
       "      <td>20.000000</td>\n",
       "      <td>30.000000</td>\n",
       "      <td>15.000000</td>\n",
       "      <td>31.000000</td>\n",
       "      <td>101.000000</td>\n",
       "      <td>1.000000</td>\n",
       "      <td>1.000000</td>\n",
       "    </tr>\n",
       "  </tbody>\n",
       "</table>\n",
       "</div>"
      ],
      "text/plain": [
       "              AGE       SPHEQ          AL         ACD          LT         VCD  \\\n",
       "count  618.000000  618.000000  618.000000  618.000000  618.000000  618.000000   \n",
       "mean     6.299353    0.801010   22.496780    3.578629    3.541453   15.376780   \n",
       "std      0.712950    0.625918    0.680141    0.230394    0.154519    0.664183   \n",
       "min      5.000000   -0.699000   19.900000    2.772000    2.960000   13.380000   \n",
       "25%      6.000000    0.456250   22.040001    3.424000    3.436000   14.930000   \n",
       "50%      6.000000    0.729000   22.464999    3.585000    3.542000   15.360000   \n",
       "75%      6.000000    1.034000   22.969999    3.730000    3.640000   15.840000   \n",
       "max      9.000000    4.372000   24.559999    4.250000    4.112000   17.299999   \n",
       "\n",
       "          SPORTHR      READHR      COMPHR     STUDYHR        TVHR   DIOPTERHR  \\\n",
       "count  618.000000  618.000000  618.000000  618.000000  618.000000  618.000000   \n",
       "mean    11.953074    2.796117    2.105178    1.490291    8.948220   26.017799   \n",
       "std      7.968296    3.068191    3.056508    2.216207    5.719021   16.031715   \n",
       "min      0.000000    0.000000    0.000000    0.000000    0.000000    2.000000   \n",
       "25%      6.000000    0.000000    0.000000    0.000000    4.250000   15.000000   \n",
       "50%     10.000000    2.000000    1.000000    1.000000    8.000000   23.000000   \n",
       "75%     16.000000    4.000000    3.000000    2.000000   12.000000   34.000000   \n",
       "max     45.000000   20.000000   30.000000   15.000000   31.000000  101.000000   \n",
       "\n",
       "            MOMMY       DADMY  \n",
       "count  618.000000  618.000000  \n",
       "mean     0.506472    0.498382  \n",
       "std      0.500363    0.500402  \n",
       "min      0.000000    0.000000  \n",
       "25%      0.000000    0.000000  \n",
       "50%      1.000000    0.000000  \n",
       "75%      1.000000    1.000000  \n",
       "max      1.000000    1.000000  "
      ]
     },
     "execution_count": 4,
     "metadata": {},
     "output_type": "execute_result"
    }
   ],
   "source": [
    "# Dropping 'MYOPIC' column\n",
    "df = df.drop('MYOPIC', axis=1)\n",
    "\n",
    "# Viewing statistical summary of the data\n",
    "df.describe()"
   ]
  },
  {
   "cell_type": "markdown",
   "id": "2667af8c",
   "metadata": {},
   "source": [
    "### Standardizing dataset"
   ]
  },
  {
   "cell_type": "code",
   "execution_count": 5,
   "id": "0b5dbd74",
   "metadata": {},
   "outputs": [],
   "source": [
    "# Creating scaler\n",
    "scaler = StandardScaler()\n",
    "\n",
    "# Training scaler\n",
    "X_scaled = scaler.fit_transform(df)"
   ]
  },
  {
   "cell_type": "code",
   "execution_count": 6,
   "id": "bde9f356",
   "metadata": {},
   "outputs": [
    {
     "data": {
      "text/plain": [
       "array([-0.42021911, -1.3639169 , -0.89286146,  0.48378402, -0.28144315,\n",
       "       -1.0197916 ,  4.1506609 ,  1.69744958, -0.68931054, -0.67299591,\n",
       "        0.18405806,  0.49830393,  0.98713773,  1.0032415 ])"
      ]
     },
     "execution_count": 6,
     "metadata": {},
     "output_type": "execute_result"
    }
   ],
   "source": [
    "X_scaled[0]"
   ]
  },
  {
   "cell_type": "markdown",
   "id": "53f24806",
   "metadata": {},
   "source": [
    "### Dimensionality reduction"
   ]
  },
  {
   "cell_type": "code",
   "execution_count": 7,
   "id": "e6117c12",
   "metadata": {},
   "outputs": [
    {
     "data": {
      "text/plain": [
       "0.9187361702915187"
      ]
     },
     "execution_count": 7,
     "metadata": {},
     "output_type": "execute_result"
    }
   ],
   "source": [
    "pca = PCA(n_components=0.9)\n",
    "\n",
    "# PCA transformation\n",
    "myopia_pca = pca.fit_transform(X_scaled)\n",
    "\n",
    "# Explained variance ratio\n",
    "pca.explained_variance_ratio_.sum()"
   ]
  },
  {
   "cell_type": "code",
   "execution_count": 8,
   "id": "ece4a50d",
   "metadata": {},
   "outputs": [
    {
     "data": {
      "text/plain": [
       "(618, 10)"
      ]
     },
     "execution_count": 8,
     "metadata": {},
     "output_type": "execute_result"
    }
   ],
   "source": [
    "# Checking shape of features\n",
    "myopia_pca.shape"
   ]
  },
  {
   "cell_type": "code",
   "execution_count": 9,
   "id": "c90fa356",
   "metadata": {},
   "outputs": [
    {
     "name": "stderr",
     "output_type": "stream",
     "text": [
      "C:\\Users\\rahmi\\anaconda3\\lib\\site-packages\\sklearn\\manifold\\_t_sne.py:780: FutureWarning: The default initialization in TSNE will change from 'random' to 'pca' in 1.2.\n",
      "  warnings.warn(\n"
     ]
    }
   ],
   "source": [
    "#Further dimensional reduction\n",
    "\n",
    "tsne = TSNE(learning_rate=250, n_components=3, perplexity=50, n_iter=2500)\n",
    "tsne_features = tsne.fit_transform(myopia_pca)"
   ]
  },
  {
   "cell_type": "code",
   "execution_count": 10,
   "id": "262d016b",
   "metadata": {},
   "outputs": [
    {
     "data": {
      "text/plain": [
       "(618, 3)"
      ]
     },
     "execution_count": 10,
     "metadata": {},
     "output_type": "execute_result"
    }
   ],
   "source": [
    "tsne_features.shape"
   ]
  },
  {
   "cell_type": "code",
   "execution_count": 12,
   "id": "cb2347e6",
   "metadata": {},
   "outputs": [
    {
     "data": {
      "image/png": "[encoded data removed]",
      "text/plain": [
       "<Figure size 432x288 with 1 Axes>"
      ]
     },
     "metadata": {
      "needs_background": "light"
     },
     "output_type": "display_data"
    }
   ],
   "source": [
    "plt.scatter(tsne_features[:, 0], tsne_features[:, 1], c=labels)\n",
    "plt.show()"
   ]
  },
  {
   "cell_type": "code",
   "execution_count": null,
   "id": "b9f07fbe",
   "metadata": {},
   "outputs": [],
   "source": []
  }
 ],
 "metadata": {
  "kernelspec": {
   "display_name": "Python 3 (ipykernel)",
   "language": "python",
   "name": "python3"
  },
  "language_info": {
   "codemirror_mode": {
    "name": "ipython",
    "version": 3
   },
   "file_extension": ".py",
   "mimetype": "text/x-python",
   "name": "python",
   "nbconvert_exporter": "python",
   "pygments_lexer": "ipython3",
   "version": "3.9.12"
  }
 },
 "nbformat": 4,
 "nbformat_minor": 5
}
